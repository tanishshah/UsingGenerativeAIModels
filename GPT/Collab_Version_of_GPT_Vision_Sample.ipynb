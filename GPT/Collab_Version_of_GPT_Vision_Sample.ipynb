{
  "nbformat": 4,
  "nbformat_minor": 0,
  "metadata": {
    "colab": {
      "provenance": []
    },
    "kernelspec": {
      "name": "python3",
      "display_name": "Python 3"
    },
    "language_info": {
      "name": "python"
    }
  },
  "cells": [
    {
      "cell_type": "markdown",
      "source": [
        "#### Original Code from https://platform.openai.com/docs/guides/vision\n",
        "#### Modified for use in a collab notebook"
      ],
      "metadata": {
        "id": "7rMDSO2gCTq8"
      }
    },
    {
      "cell_type": "code",
      "source": [
        "pip install openai\n",
        "from openai import OpenAI\n",
        "import base64\n",
        "import requests\n",
        "import os\n"
      ],
      "metadata": {
        "id": "vZCK5L_Lkloi"
      },
      "execution_count": null,
      "outputs": []
    },
    {
      "cell_type": "code",
      "source": [
        "os.environ[\"OPENAI_API_KEY\"] = \"\""
      ],
      "metadata": {
        "id": "XrBByLt7k5Nq"
      },
      "execution_count": null,
      "outputs": []
    },
    {
      "cell_type": "markdown",
      "source": [
        "### If using file upload"
      ],
      "metadata": {
        "id": "9JCm2Es9C6DR"
      }
    },
    {
      "cell_type": "code",
      "source": [
        "from google.colab import files\n",
        "#files.upload()\n",
        "def encode_image(image_path):\n",
        "  with open(image_path, \"rb\") as image_file:\n",
        "    return base64.b64encode(image_file.read()).decode('utf-8')\n",
        "#image_path = encode_image(\"/content/file\")\n",
        "\n",
        "# Format for replacing the image url\n",
        "#\"url\": f\"data:image/png;base64,{depth_image_path}\""
      ],
      "metadata": {
        "id": "kx_2jmeVErmN"
      },
      "execution_count": null,
      "outputs": []
    },
    {
      "cell_type": "markdown",
      "source": [
        "### Make the API Call"
      ],
      "metadata": {
        "id": "Xyemmqy7DNsc"
      }
    },
    {
      "cell_type": "code",
      "source": [
        "\n",
        "from openai import OpenAI\n",
        "\n",
        "client = OpenAI()\n",
        "\n",
        "response = client.chat.completions.create(\n",
        "    model=\"gpt-4-vision-preview\",\n",
        "    messages=[\n",
        "        {\n",
        "            \"role\": \"user\",\n",
        "            \"content\": [\n",
        "                {\"type\": \"text\",\n",
        "                 \"text\": \"Query.\"\n",
        "                },\n",
        "                {\n",
        "                    \"type\": \"image_url\",\n",
        "                    \"image_url\": {\n",
        "                        \"url\": \"img_url\"\n",
        "                    }\n",
        "                },\n",
        "            ],\n",
        "        }\n",
        "    ],\n",
        "    max_tokens=300,\n",
        ")\n",
        "\n",
        "print(response.choices[0])\n"
      ],
      "metadata": {
        "id": "5D64JQQy0KEJ"
      },
      "execution_count": null,
      "outputs": []
    }
  ]
}